{
    "cells": [
        {
            "metadata": {},
            "cell_type": "code",
            "source": "#These libraries are pre-installed in SN Labs. If running in another environment please uncomment lines below to install them:\n!pip install --force-reinstall ibm_db==3.1.0 ibm_db_sa==0.3.3\n#Ensure we don't load_ext with sqlalchemy>=1.4 (incompadible)\n!pip uninstall sqlalchemy==1.4 -y && pip install sqlalchemy==1.3.24\n!pip install ipython-sql",
            "execution_count": 1,
            "outputs": [
                {
                    "output_type": "stream",
                    "text": "Collecting ibm_db==3.1.0\n  Downloading ibm_db-3.1.0.tar.gz (797 kB)\n\u001b[K     |\u2588\u2588\u2588\u2588\u2588\u2588\u2588\u2588\u2588\u2588\u2588\u2588\u2588\u2588\u2588\u2588\u2588\u2588\u2588\u2588\u2588\u2588\u2588\u2588\u2588\u2588\u2588\u2588\u2588\u2588\u2588\u2588| 797 kB 24.7 MB/s eta 0:00:01\n\u001b[?25h  Installing build dependencies ... \u001b[?25ldone\n\u001b[?25h  Getting requirements to build wheel ... \u001b[?25ldone\n\u001b[?25h  Installing backend dependencies ... \u001b[?25ldone\n\u001b[?25h    Preparing wheel metadata ... \u001b[?25ldone\n\u001b[?25hCollecting ibm_db_sa==0.3.3\n  Downloading ibm_db_sa-0.3.3.tar.gz (24 kB)\nCollecting sqlalchemy>=0.7.3\n  Downloading SQLAlchemy-1.4.29-cp38-cp38-manylinux_2_5_x86_64.manylinux1_x86_64.manylinux_2_17_x86_64.manylinux2014_x86_64.whl (1.6 MB)\n\u001b[K     |\u2588\u2588\u2588\u2588\u2588\u2588\u2588\u2588\u2588\u2588\u2588\u2588\u2588\u2588\u2588\u2588\u2588\u2588\u2588\u2588\u2588\u2588\u2588\u2588\u2588\u2588\u2588\u2588\u2588\u2588\u2588\u2588| 1.6 MB 64.7 MB/s eta 0:00:01\n\u001b[?25hCollecting greenlet!=0.4.17\n  Downloading greenlet-1.1.2-cp38-cp38-manylinux_2_17_x86_64.manylinux2014_x86_64.whl (156 kB)\n\u001b[K     |\u2588\u2588\u2588\u2588\u2588\u2588\u2588\u2588\u2588\u2588\u2588\u2588\u2588\u2588\u2588\u2588\u2588\u2588\u2588\u2588\u2588\u2588\u2588\u2588\u2588\u2588\u2588\u2588\u2588\u2588\u2588\u2588| 156 kB 75.8 MB/s eta 0:00:01\n\u001b[?25hBuilding wheels for collected packages: ibm-db, ibm-db-sa\n  Building wheel for ibm-db (PEP 517) ... \u001b[?25ldone\n\u001b[?25h  Created wheel for ibm-db: filename=ibm_db-3.1.0-cp38-cp38-linux_x86_64.whl size=394265 sha256=661f109eec7baa275fda87924b20aaeece5edb9539d886fbd49ca783692b0803\n  Stored in directory: /tmp/wsuser/.cache/pip/wheels/43/71/0a/3065745bc1dc4cafbdcb09e2557082609f7689b16108b670df\n  Building wheel for ibm-db-sa (setup.py) ... \u001b[?25ldone\n\u001b[?25h  Created wheel for ibm-db-sa: filename=ibm_db_sa-0.3.3-py3-none-any.whl size=27410 sha256=a4239c9d9dbf91a09d12fc1b08bdb26c85c7ec9466cb4b705ca6f349dd0b6318\n  Stored in directory: /tmp/wsuser/.cache/pip/wheels/ca/a9/b6/4f6402aa714d6e9903b79a15fbc3b2f02bf72da989b7708c18\nSuccessfully built ibm-db ibm-db-sa\nInstalling collected packages: greenlet, sqlalchemy, ibm-db-sa, ibm-db\n  Attempting uninstall: greenlet\n    Found existing installation: greenlet 1.1.1\n    Uninstalling greenlet-1.1.1:\n      Successfully uninstalled greenlet-1.1.1\n  Attempting uninstall: sqlalchemy\n    Found existing installation: SQLAlchemy 1.4.22\n    Uninstalling SQLAlchemy-1.4.22:\n      Successfully uninstalled SQLAlchemy-1.4.22\n  Attempting uninstall: ibm-db-sa\n    Found existing installation: ibm-db-sa 0.3.7\n    Uninstalling ibm-db-sa-0.3.7:\n      Successfully uninstalled ibm-db-sa-0.3.7\n  Attempting uninstall: ibm-db\n    Found existing installation: ibm-db 3.0.4\n    Uninstalling ibm-db-3.0.4:\n      Successfully uninstalled ibm-db-3.0.4\nSuccessfully installed greenlet-1.1.2 ibm-db-3.1.0 ibm-db-sa-0.3.3 sqlalchemy-1.4.29\nFound existing installation: SQLAlchemy 1.4.29\nUninstalling SQLAlchemy-1.4.29:\n  Successfully uninstalled SQLAlchemy-1.4.29\nCollecting sqlalchemy==1.3.24\n  Downloading SQLAlchemy-1.3.24-cp38-cp38-manylinux2010_x86_64.whl (1.3 MB)\n\u001b[K     |\u2588\u2588\u2588\u2588\u2588\u2588\u2588\u2588\u2588\u2588\u2588\u2588\u2588\u2588\u2588\u2588\u2588\u2588\u2588\u2588\u2588\u2588\u2588\u2588\u2588\u2588\u2588\u2588\u2588\u2588\u2588\u2588| 1.3 MB 24.6 MB/s eta 0:00:01\n\u001b[?25hInstalling collected packages: sqlalchemy\nSuccessfully installed sqlalchemy-1.3.24\nCollecting ipython-sql\n  Downloading ipython_sql-0.4.0-py3-none-any.whl (19 kB)\nRequirement already satisfied: ipython-genutils>=0.1.0 in /opt/conda/envs/Python-3.8-main/lib/python3.8/site-packages (from ipython-sql) (0.2.0)\nCollecting prettytable<1\n  Downloading prettytable-0.7.2.zip (28 kB)\nRequirement already satisfied: sqlalchemy>=0.6.7 in /opt/conda/envs/Python-3.8-main/lib/python3.8/site-packages (from ipython-sql) (1.3.24)\nRequirement already satisfied: six in /opt/conda/envs/Python-3.8-main/lib/python3.8/site-packages (from ipython-sql) (1.15.0)\nRequirement already satisfied: ipython>=1.0 in /opt/conda/envs/Python-3.8-main/lib/python3.8/site-packages (from ipython-sql) (7.27.0)\nCollecting sqlparse\n  Downloading sqlparse-0.4.2-py3-none-any.whl (42 kB)\n\u001b[K     |\u2588\u2588\u2588\u2588\u2588\u2588\u2588\u2588\u2588\u2588\u2588\u2588\u2588\u2588\u2588\u2588\u2588\u2588\u2588\u2588\u2588\u2588\u2588\u2588\u2588\u2588\u2588\u2588\u2588\u2588\u2588\u2588| 42 kB 3.1 MB/s  eta 0:00:01\n\u001b[?25hRequirement already satisfied: prompt-toolkit!=3.0.0,!=3.0.1,<3.1.0,>=2.0.0 in /opt/conda/envs/Python-3.8-main/lib/python3.8/site-packages (from ipython>=1.0->ipython-sql) (3.0.20)\nRequirement already satisfied: matplotlib-inline in /opt/conda/envs/Python-3.8-main/lib/python3.8/site-packages (from ipython>=1.0->ipython-sql) (0.1.2)\nRequirement already satisfied: jedi>=0.16 in /opt/conda/envs/Python-3.8-main/lib/python3.8/site-packages (from ipython>=1.0->ipython-sql) (0.17.2)\nRequirement already satisfied: decorator in /opt/conda/envs/Python-3.8-main/lib/python3.8/site-packages (from ipython>=1.0->ipython-sql) (5.0.9)\nRequirement already satisfied: pygments in /opt/conda/envs/Python-3.8-main/lib/python3.8/site-packages (from ipython>=1.0->ipython-sql) (2.9.0)\nRequirement already satisfied: backcall in /opt/conda/envs/Python-3.8-main/lib/python3.8/site-packages (from ipython>=1.0->ipython-sql) (0.2.0)\nRequirement already satisfied: pickleshare in /opt/conda/envs/Python-3.8-main/lib/python3.8/site-packages (from ipython>=1.0->ipython-sql) (0.7.5)\nRequirement already satisfied: pexpect>4.3 in /opt/conda/envs/Python-3.8-main/lib/python3.8/site-packages (from ipython>=1.0->ipython-sql) (4.8.0)\nRequirement already satisfied: traitlets>=4.2 in /opt/conda/envs/Python-3.8-main/lib/python3.8/site-packages (from ipython>=1.0->ipython-sql) (5.0.5)\nRequirement already satisfied: setuptools>=18.5 in /opt/conda/envs/Python-3.8-main/lib/python3.8/site-packages (from ipython>=1.0->ipython-sql) (52.0.0.post20211006)\nRequirement already satisfied: parso<0.8.0,>=0.7.0 in /opt/conda/envs/Python-3.8-main/lib/python3.8/site-packages (from jedi>=0.16->ipython>=1.0->ipython-sql) (0.7.0)\nRequirement already satisfied: ptyprocess>=0.5 in /opt/conda/envs/Python-3.8-main/lib/python3.8/site-packages (from pexpect>4.3->ipython>=1.0->ipython-sql) (0.7.0)\nRequirement already satisfied: wcwidth in /opt/conda/envs/Python-3.8-main/lib/python3.8/site-packages (from prompt-toolkit!=3.0.0,!=3.0.1,<3.1.0,>=2.0.0->ipython>=1.0->ipython-sql) (0.2.5)\nBuilding wheels for collected packages: prettytable\n  Building wheel for prettytable (setup.py) ... \u001b[?25ldone\n\u001b[?25h  Created wheel for prettytable: filename=prettytable-0.7.2-py3-none-any.whl size=13700 sha256=07782f0502445249da170fd0713f11da5a2c7c56c97c08fa7d72d00e2f92b5a8\n  Stored in directory: /tmp/wsuser/.cache/pip/wheels/48/6d/77/9517cb933af254f51a446f1a5ec9c2be3e45f17384940bce68\nSuccessfully built prettytable\nInstalling collected packages: sqlparse, prettytable, ipython-sql\nSuccessfully installed ipython-sql-0.4.0 prettytable-0.7.2 sqlparse-0.4.2\n",
                    "name": "stdout"
                }
            ]
        },
        {
            "metadata": {},
            "cell_type": "code",
            "source": "import ibm_db\nimport ibm_db_sa\nimport sqlalchemy",
            "execution_count": 1,
            "outputs": []
        },
        {
            "metadata": {},
            "cell_type": "code",
            "source": "%load_ext sql",
            "execution_count": 2,
            "outputs": []
        },
        {
            "metadata": {},
            "cell_type": "code",
            "source": "# Enter your Db2 credentials in the connection string below\n# Recall you created Service Credentials in Part III of the first lab of the course in Week 1\n# i.e. from the uri field in the Service Credentials copy everything after db2:// (but remove the double quote at the end)\n# for example, if your credentials are as in the screenshot above, you would write:\n# %sql ibm_db_sa://my-username:my-password@hostname:port/BLUDB?security=SSL\n# Note the ibm_db_sa:// prefix instead of db2://\n# This is because JupyterLab's ipython-sql extension uses sqlalchemy (a python SQL toolkit)\n# which in turn uses IBM's sqlalchemy dialect: ibm_db_sa\n\n%sql ibm_db_sa://vbq04302:XC6vkPRPQvp0Pv0t@0c77d6f2-5da9-48a9-81f8-86b520b87518.bs2io90l08kqb1od8lcg.databases.appdomain.cloud:31198/bludb?security=SSL?authSource=admin&replicaSet=replset",
            "execution_count": 3,
            "outputs": []
        },
        {
            "metadata": {},
            "cell_type": "code",
            "source": "%sql select * from CHICAGO_CRIME_DATA limit 10;",
            "execution_count": 26,
            "outputs": [
                {
                    "output_type": "stream",
                    "text": " * ibm_db_sa://vbq04302:***@0c77d6f2-5da9-48a9-81f8-86b520b87518.bs2io90l08kqb1od8lcg.databases.appdomain.cloud:31198/bludb\nDone.\n",
                    "name": "stdout"
                },
                {
                    "output_type": "execute_result",
                    "execution_count": 26,
                    "data": {
                        "text/plain": "[(3512276, 'HK587712', datetime.date(2004, 8, 28), '047XX S KEDZIE AVE', '890', 'THEFT', 'FROM BUILDING', 'SMALL RETAIL STORE', 'FALSE', 'FALSE', 911, 9, 14, 58, '6', 1155838, 1873050, 2004, Decimal('41.80744050'), Decimal('-87.70395585'), '(41.8074405, -87.703955849)'),\n (3406613, 'HK456306', datetime.date(2004, 6, 26), '009XX N CENTRAL PARK AVE', '820', 'THEFT', '$500 AND UNDER', 'OTHER', 'FALSE', 'FALSE', 1112, 11, 27, 23, '6', 1152206, 1906127, 2004, Decimal('41.89827996'), Decimal('-87.71640551'), '(41.898279962, -87.716405505)'),\n (8002131, 'HT233595', datetime.date(2011, 4, 4), '043XX S WABASH AVE', '820', 'THEFT', '$500 AND UNDER', 'NURSING HOME/RETIREMENT HOME', 'FALSE', 'FALSE', 221, 2, 3, 38, '6', 1177436, 1876313, 2011, Decimal('41.81593313'), Decimal('-87.62464213'), '(41.815933131, -87.624642127)'),\n (7903289, 'HT133522', datetime.date(2010, 12, 30), '083XX S KINGSTON AVE', '840', 'THEFT', 'FINANCIAL ID THEFT: OVER $300', 'RESIDENCE', 'FALSE', 'FALSE', 423, 4, 7, 46, '6', 1194622, 1850125, 2010, Decimal('41.74366532'), Decimal('-87.56246276'), '(41.743665322, -87.562462756)'),\n (10402076, 'HZ138551', datetime.date(2016, 2, 2), '033XX W 66TH ST', '820', 'THEFT', '$500 AND UNDER', 'ALLEY', 'FALSE', 'FALSE', 831, 8, 15, 66, '6', 1155240, 1860661, 2016, Decimal('41.77345530'), Decimal('-87.70648047'), '(41.773455295, -87.706480471)'),\n (7732712, 'HS540106', datetime.date(2010, 9, 29), '006XX W CHICAGO AVE', '810', 'THEFT', 'OVER $500', 'PARKING LOT/GARAGE(NON.RESID.)', 'FALSE', 'FALSE', 1323, 12, 27, 24, '6', 1171668, 1905607, 2010, Decimal('41.89644677'), Decimal('-87.64493868'), '(41.896446772, -87.644938678)'),\n (10769475, 'HZ534771', datetime.date(2016, 11, 30), '050XX N KEDZIE AVE', '810', 'THEFT', 'OVER $500', 'STREET', 'FALSE', 'FALSE', 1713, 17, 33, 14, '6', 1154133, 1933314, 2016, Decimal('41.97284491'), Decimal('-87.70860008'), '(41.972844913, -87.708600079)'),\n (4494340, 'HL793243', datetime.date(2005, 12, 16), '005XX E PERSHING RD', '860', 'THEFT', 'RETAIL THEFT', 'GROCERY FOOD STORE', 'TRUE', 'FALSE', 213, 2, 3, 38, '6', 1180448, 1879234, 2005, Decimal('41.82387989'), Decimal('-87.61350386'), '(41.823879885, -87.613503857)'),\n (3778925, 'HL149610', datetime.date(2005, 1, 28), '100XX S WASHTENAW AVE', '810', 'THEFT', 'OVER $500', 'STREET', 'FALSE', 'FALSE', 2211, 22, 19, 72, '6', 1160129, 1838040, 2005, Decimal('41.71128051'), Decimal('-87.68917910'), '(41.711280513, -87.689179097)'),\n (3324217, 'HK361551', datetime.date(2004, 5, 13), '033XX W BELMONT AVE', '820', 'THEFT', '$500 AND UNDER', 'SMALL RETAIL STORE', 'FALSE', 'FALSE', 1733, 17, 35, 21, '6', 1153590, 1921084, 2004, Decimal('41.93929582'), Decimal('-87.71092344'), '(41.939295821, -87.710923442)')]",
                        "text/html": "<table>\n    <tr>\n        <th>id</th>\n        <th>case_number</th>\n        <th>DATE</th>\n        <th>block</th>\n        <th>iucr</th>\n        <th>primary_type</th>\n        <th>description</th>\n        <th>location_description</th>\n        <th>arrest</th>\n        <th>domestic</th>\n        <th>beat</th>\n        <th>district</th>\n        <th>ward</th>\n        <th>community_area_number</th>\n        <th>fbicode</th>\n        <th>x_coordinate</th>\n        <th>y_coordinate</th>\n        <th>YEAR</th>\n        <th>latitude</th>\n        <th>longitude</th>\n        <th>location</th>\n    </tr>\n    <tr>\n        <td>3512276</td>\n        <td>HK587712</td>\n        <td>2004-08-28</td>\n        <td>047XX S KEDZIE AVE</td>\n        <td>890</td>\n        <td>THEFT</td>\n        <td>FROM BUILDING</td>\n        <td>SMALL RETAIL STORE</td>\n        <td>FALSE</td>\n        <td>FALSE</td>\n        <td>911</td>\n        <td>9</td>\n        <td>14</td>\n        <td>58</td>\n        <td>6</td>\n        <td>1155838</td>\n        <td>1873050</td>\n        <td>2004</td>\n        <td>41.80744050</td>\n        <td>-87.70395585</td>\n        <td>(41.8074405, -87.703955849)</td>\n    </tr>\n    <tr>\n        <td>3406613</td>\n        <td>HK456306</td>\n        <td>2004-06-26</td>\n        <td>009XX N CENTRAL PARK AVE</td>\n        <td>820</td>\n        <td>THEFT</td>\n        <td>$500 AND UNDER</td>\n        <td>OTHER</td>\n        <td>FALSE</td>\n        <td>FALSE</td>\n        <td>1112</td>\n        <td>11</td>\n        <td>27</td>\n        <td>23</td>\n        <td>6</td>\n        <td>1152206</td>\n        <td>1906127</td>\n        <td>2004</td>\n        <td>41.89827996</td>\n        <td>-87.71640551</td>\n        <td>(41.898279962, -87.716405505)</td>\n    </tr>\n    <tr>\n        <td>8002131</td>\n        <td>HT233595</td>\n        <td>2011-04-04</td>\n        <td>043XX S WABASH AVE</td>\n        <td>820</td>\n        <td>THEFT</td>\n        <td>$500 AND UNDER</td>\n        <td>NURSING HOME/RETIREMENT HOME</td>\n        <td>FALSE</td>\n        <td>FALSE</td>\n        <td>221</td>\n        <td>2</td>\n        <td>3</td>\n        <td>38</td>\n        <td>6</td>\n        <td>1177436</td>\n        <td>1876313</td>\n        <td>2011</td>\n        <td>41.81593313</td>\n        <td>-87.62464213</td>\n        <td>(41.815933131, -87.624642127)</td>\n    </tr>\n    <tr>\n        <td>7903289</td>\n        <td>HT133522</td>\n        <td>2010-12-30</td>\n        <td>083XX S KINGSTON AVE</td>\n        <td>840</td>\n        <td>THEFT</td>\n        <td>FINANCIAL ID THEFT: OVER $300</td>\n        <td>RESIDENCE</td>\n        <td>FALSE</td>\n        <td>FALSE</td>\n        <td>423</td>\n        <td>4</td>\n        <td>7</td>\n        <td>46</td>\n        <td>6</td>\n        <td>1194622</td>\n        <td>1850125</td>\n        <td>2010</td>\n        <td>41.74366532</td>\n        <td>-87.56246276</td>\n        <td>(41.743665322, -87.562462756)</td>\n    </tr>\n    <tr>\n        <td>10402076</td>\n        <td>HZ138551</td>\n        <td>2016-02-02</td>\n        <td>033XX W 66TH ST</td>\n        <td>820</td>\n        <td>THEFT</td>\n        <td>$500 AND UNDER</td>\n        <td>ALLEY</td>\n        <td>FALSE</td>\n        <td>FALSE</td>\n        <td>831</td>\n        <td>8</td>\n        <td>15</td>\n        <td>66</td>\n        <td>6</td>\n        <td>1155240</td>\n        <td>1860661</td>\n        <td>2016</td>\n        <td>41.77345530</td>\n        <td>-87.70648047</td>\n        <td>(41.773455295, -87.706480471)</td>\n    </tr>\n    <tr>\n        <td>7732712</td>\n        <td>HS540106</td>\n        <td>2010-09-29</td>\n        <td>006XX W CHICAGO AVE</td>\n        <td>810</td>\n        <td>THEFT</td>\n        <td>OVER $500</td>\n        <td>PARKING LOT/GARAGE(NON.RESID.)</td>\n        <td>FALSE</td>\n        <td>FALSE</td>\n        <td>1323</td>\n        <td>12</td>\n        <td>27</td>\n        <td>24</td>\n        <td>6</td>\n        <td>1171668</td>\n        <td>1905607</td>\n        <td>2010</td>\n        <td>41.89644677</td>\n        <td>-87.64493868</td>\n        <td>(41.896446772, -87.644938678)</td>\n    </tr>\n    <tr>\n        <td>10769475</td>\n        <td>HZ534771</td>\n        <td>2016-11-30</td>\n        <td>050XX N KEDZIE AVE</td>\n        <td>810</td>\n        <td>THEFT</td>\n        <td>OVER $500</td>\n        <td>STREET</td>\n        <td>FALSE</td>\n        <td>FALSE</td>\n        <td>1713</td>\n        <td>17</td>\n        <td>33</td>\n        <td>14</td>\n        <td>6</td>\n        <td>1154133</td>\n        <td>1933314</td>\n        <td>2016</td>\n        <td>41.97284491</td>\n        <td>-87.70860008</td>\n        <td>(41.972844913, -87.708600079)</td>\n    </tr>\n    <tr>\n        <td>4494340</td>\n        <td>HL793243</td>\n        <td>2005-12-16</td>\n        <td>005XX E PERSHING RD</td>\n        <td>860</td>\n        <td>THEFT</td>\n        <td>RETAIL THEFT</td>\n        <td>GROCERY FOOD STORE</td>\n        <td>TRUE</td>\n        <td>FALSE</td>\n        <td>213</td>\n        <td>2</td>\n        <td>3</td>\n        <td>38</td>\n        <td>6</td>\n        <td>1180448</td>\n        <td>1879234</td>\n        <td>2005</td>\n        <td>41.82387989</td>\n        <td>-87.61350386</td>\n        <td>(41.823879885, -87.613503857)</td>\n    </tr>\n    <tr>\n        <td>3778925</td>\n        <td>HL149610</td>\n        <td>2005-01-28</td>\n        <td>100XX S WASHTENAW AVE</td>\n        <td>810</td>\n        <td>THEFT</td>\n        <td>OVER $500</td>\n        <td>STREET</td>\n        <td>FALSE</td>\n        <td>FALSE</td>\n        <td>2211</td>\n        <td>22</td>\n        <td>19</td>\n        <td>72</td>\n        <td>6</td>\n        <td>1160129</td>\n        <td>1838040</td>\n        <td>2005</td>\n        <td>41.71128051</td>\n        <td>-87.68917910</td>\n        <td>(41.711280513, -87.689179097)</td>\n    </tr>\n    <tr>\n        <td>3324217</td>\n        <td>HK361551</td>\n        <td>2004-05-13</td>\n        <td>033XX W BELMONT AVE</td>\n        <td>820</td>\n        <td>THEFT</td>\n        <td>$500 AND UNDER</td>\n        <td>SMALL RETAIL STORE</td>\n        <td>FALSE</td>\n        <td>FALSE</td>\n        <td>1733</td>\n        <td>17</td>\n        <td>35</td>\n        <td>21</td>\n        <td>6</td>\n        <td>1153590</td>\n        <td>1921084</td>\n        <td>2004</td>\n        <td>41.93929582</td>\n        <td>-87.71092344</td>\n        <td>(41.939295821, -87.710923442)</td>\n    </tr>\n</table>"
                    },
                    "metadata": {}
                }
            ]
        },
        {
            "metadata": {},
            "cell_type": "code",
            "source": "%sql select * from CENSUS_DATA limit 10;",
            "execution_count": 27,
            "outputs": [
                {
                    "output_type": "stream",
                    "text": " * ibm_db_sa://vbq04302:***@0c77d6f2-5da9-48a9-81f8-86b520b87518.bs2io90l08kqb1od8lcg.databases.appdomain.cloud:31198/bludb\nDone.\n",
                    "name": "stdout"
                },
                {
                    "output_type": "execute_result",
                    "execution_count": 27,
                    "data": {
                        "text/plain": "[(1, 'Rogers Park', Decimal('7.7'), Decimal('23.6'), Decimal('8.7'), Decimal('18.2'), Decimal('27.5'), 23939, 39),\n (2, 'West Ridge', Decimal('7.8'), Decimal('17.2'), Decimal('8.8'), Decimal('20.8'), Decimal('38.5'), 23040, 46),\n (3, 'Uptown', Decimal('3.8'), Decimal('24.0'), Decimal('8.9'), Decimal('11.8'), Decimal('22.2'), 35787, 20),\n (4, 'Lincoln Square', Decimal('3.4'), Decimal('10.9'), Decimal('8.2'), Decimal('13.4'), Decimal('25.5'), 37524, 17),\n (5, 'North Center', Decimal('0.3'), Decimal('7.5'), Decimal('5.2'), Decimal('4.5'), Decimal('26.2'), 57123, 6),\n (6, 'Lake View', Decimal('1.1'), Decimal('11.4'), Decimal('4.7'), Decimal('2.6'), Decimal('17.0'), 60058, 5),\n (7, 'Lincoln Park', Decimal('0.8'), Decimal('12.3'), Decimal('5.1'), Decimal('3.6'), Decimal('21.5'), 71551, 2),\n (8, 'Near North Side', Decimal('1.9'), Decimal('12.9'), Decimal('7.0'), Decimal('2.5'), Decimal('22.6'), 88669, 1),\n (9, 'Edison Park', Decimal('1.1'), Decimal('3.3'), Decimal('6.5'), Decimal('7.4'), Decimal('35.3'), 40959, 8),\n (10, 'Norwood Park', Decimal('2.0'), Decimal('5.4'), Decimal('9.0'), Decimal('11.5'), Decimal('39.5'), 32875, 21)]",
                        "text/html": "<table>\n    <tr>\n        <th>community_area_number</th>\n        <th>community_area_name</th>\n        <th>percent_of_housing_crowded</th>\n        <th>percent_households_below_poverty</th>\n        <th>percent_aged_16__unemployed</th>\n        <th>percent_aged_25__without_high_school_diploma</th>\n        <th>percent_aged_under_18_or_over_64</th>\n        <th>per_capita_income</th>\n        <th>hardship_index</th>\n    </tr>\n    <tr>\n        <td>1</td>\n        <td>Rogers Park</td>\n        <td>7.7</td>\n        <td>23.6</td>\n        <td>8.7</td>\n        <td>18.2</td>\n        <td>27.5</td>\n        <td>23939</td>\n        <td>39</td>\n    </tr>\n    <tr>\n        <td>2</td>\n        <td>West Ridge</td>\n        <td>7.8</td>\n        <td>17.2</td>\n        <td>8.8</td>\n        <td>20.8</td>\n        <td>38.5</td>\n        <td>23040</td>\n        <td>46</td>\n    </tr>\n    <tr>\n        <td>3</td>\n        <td>Uptown</td>\n        <td>3.8</td>\n        <td>24.0</td>\n        <td>8.9</td>\n        <td>11.8</td>\n        <td>22.2</td>\n        <td>35787</td>\n        <td>20</td>\n    </tr>\n    <tr>\n        <td>4</td>\n        <td>Lincoln Square</td>\n        <td>3.4</td>\n        <td>10.9</td>\n        <td>8.2</td>\n        <td>13.4</td>\n        <td>25.5</td>\n        <td>37524</td>\n        <td>17</td>\n    </tr>\n    <tr>\n        <td>5</td>\n        <td>North Center</td>\n        <td>0.3</td>\n        <td>7.5</td>\n        <td>5.2</td>\n        <td>4.5</td>\n        <td>26.2</td>\n        <td>57123</td>\n        <td>6</td>\n    </tr>\n    <tr>\n        <td>6</td>\n        <td>Lake View</td>\n        <td>1.1</td>\n        <td>11.4</td>\n        <td>4.7</td>\n        <td>2.6</td>\n        <td>17.0</td>\n        <td>60058</td>\n        <td>5</td>\n    </tr>\n    <tr>\n        <td>7</td>\n        <td>Lincoln Park</td>\n        <td>0.8</td>\n        <td>12.3</td>\n        <td>5.1</td>\n        <td>3.6</td>\n        <td>21.5</td>\n        <td>71551</td>\n        <td>2</td>\n    </tr>\n    <tr>\n        <td>8</td>\n        <td>Near North Side</td>\n        <td>1.9</td>\n        <td>12.9</td>\n        <td>7.0</td>\n        <td>2.5</td>\n        <td>22.6</td>\n        <td>88669</td>\n        <td>1</td>\n    </tr>\n    <tr>\n        <td>9</td>\n        <td>Edison Park</td>\n        <td>1.1</td>\n        <td>3.3</td>\n        <td>6.5</td>\n        <td>7.4</td>\n        <td>35.3</td>\n        <td>40959</td>\n        <td>8</td>\n    </tr>\n    <tr>\n        <td>10</td>\n        <td>Norwood Park</td>\n        <td>2.0</td>\n        <td>5.4</td>\n        <td>9.0</td>\n        <td>11.5</td>\n        <td>39.5</td>\n        <td>32875</td>\n        <td>21</td>\n    </tr>\n</table>"
                    },
                    "metadata": {}
                }
            ]
        },
        {
            "metadata": {},
            "cell_type": "code",
            "source": "%sql select * from CHICAGO_PUBLIC_SCHOOLS limit 10;",
            "execution_count": 28,
            "outputs": [
                {
                    "output_type": "stream",
                    "text": " * ibm_db_sa://vbq04302:***@0c77d6f2-5da9-48a9-81f8-86b520b87518.bs2io90l08kqb1od8lcg.databases.appdomain.cloud:31198/bludb\nDone.\n",
                    "name": "stdout"
                },
                {
                    "output_type": "execute_result",
                    "execution_count": 28,
                    "data": {
                        "text/plain": "[(610038, 'Abraham Lincoln Elementary School', 'ES', '615 W Kemper Pl', 'Chicago', 'IL', 60614, '(773) 534-5720', 'http://schoolreports.cps.edu/SchoolProgressReport_Eng/Spring2011Eng_610038.pdf', 'Fullerton Elementary Network', 'NORTH-NORTHWEST SIDE COLLABORATIVE', 'No', 'Standard', 'Not on Probation', 'Level 1', 'Yes', 'Very Strong', 99, 'Very Strong', '99', 'Strong', 74, 'Strong', 66, 'Weak', '65', 'Strong', '70', 'Strong', '56', 'Average', '47', '96.00%', Decimal('2.0'), '96.40%', '95.80%', '80.1', '43.3', '89.6', '84.9', '60.7', '62.6', '81.9', '85.2', '52', '62.4', '66.3', '77.9', Decimal('69.7'), Decimal('64.4'), Decimal('0.2'), Decimal('0.9'), 'Yellow', 'Green', '67.1', '54.5', 'NDA', 'NDA', 'NDA', 'NDA', 'NDA', 'NDA', 'NDA', 'NDA', 'NDA', 'NDA', 813, 33, 'NDA', Decimal('1171699.458'), Decimal('1915829.428'), Decimal('41.92449696'), Decimal('-87.64452163'), 7, 'LINCOLN PARK', 43, 18, '(41.92449696, -87.64452163)'),\n (610281, 'Adam Clayton Powell Paideia Community Academy Elementary School', 'ES', '7511 S South Shore Dr', 'Chicago', 'IL', 60649, '(773) 535-6650', 'http://schoolreports.cps.edu/SchoolProgressReport_Eng/Spring2011Eng_610281.pdf', 'Skyway Elementary Network', 'SOUTH SIDE COLLABORATIVE', 'No', 'Track_E', 'Not on Probation', 'Level 1', 'No', 'Average', 54, 'Strong', '66', 'Strong', 74, 'Very Strong', 84, 'Weak', '63', 'Strong', '76', 'Weak', '46', 'Average', '50', '95.60%', Decimal('15.7'), '95.30%', '100.00%', '62.4', '51.7', '21.9', '15.1', '29', '42.8', '38.5', '27.4', '44.8', '42.7', '14.1', '34.4', Decimal('16.8'), Decimal('16.5'), Decimal('0.7'), Decimal('1.4'), 'Green', 'Green', '17.2', '27.3', 'NDA', 'NDA', 'NDA', 'NDA', 'NDA', 'NDA', 'NDA', 'NDA', 'NDA', 'NDA', 521, 46, 'NDA', Decimal('1196129.985'), Decimal('1856209.466'), Decimal('41.76032435'), Decimal('-87.55673627'), 43, 'SOUTH SHORE', 7, 4, '(41.76032435, -87.55673627)'),\n (610185, 'Adlai E Stevenson Elementary School', 'ES', '8010 S Kostner Ave', 'Chicago', 'IL', 60652, '(773) 535-2280', 'http://schoolreports.cps.edu/SchoolProgressReport_Eng/Spring2011Eng_610185.pdf', 'Midway Elementary Network', 'SOUTHWEST SIDE COLLABORATIVE', 'No', 'Standard', 'Not on Probation', 'Level 2', 'No', 'Strong', 61, 'NDA', 'NDA', 'Average', 50, 'Weak', 36, 'Weak', 'NDA', 'NDA', 'NDA', 'Average', '47', 'Weak', '41', '95.70%', Decimal('2.3'), '94.70%', '98.30%', '53.7', '26.6', '38.3', '34.7', '43.7', '57.3', '48.8', '39.2', '46.8', '44', '7.5', '21.9', Decimal('18.3'), Decimal('15.5'), Decimal('-0.9'), Decimal('-1.0'), 'Red', 'Red', 'NDA', 'NDA', 'NDA', 'NDA', 'NDA', 'NDA', 'NDA', 'NDA', 'NDA', 'NDA', 'NDA', 'NDA', 1324, 44, 'NDA', Decimal('1148427.165'), Decimal('1851012.215'), Decimal('41.74711093'), Decimal('-87.73170248'), 70, 'ASHBURN', 13, 8, '(41.74711093, -87.73170248)'),\n (609993, 'Agustin Lara Elementary Academy', 'ES', '4619 S Wolcott Ave', 'Chicago', 'IL', 60609, '(773) 535-4389', 'http://schoolreports.cps.edu/SchoolProgressReport_Eng/Spring2011Eng_609993.pdf', 'Pershing Elementary Network', 'SOUTHWEST SIDE COLLABORATIVE', 'No', 'Track_E', 'Not on Probation', 'Level 1', 'No', 'Average', 56, 'Average', '44', 'Average', 45, 'Weak', 37, 'Weak', '65', 'Average', '48', 'Average', '53', 'Strong', '58', '95.50%', Decimal('10.4'), '95.80%', '100.00%', '76.9', 'NDA', '26', '24.7', '61.8', '49.7', '39.2', '27.2', '69.7', '60.6', '9.1', '18.2', Decimal('11.1'), Decimal('9.6'), Decimal('0.9'), Decimal('2.4'), 'Green', 'Green', '42.9', '25', 'NDA', 'NDA', 'NDA', 'NDA', 'NDA', 'NDA', 'NDA', 'NDA', 'NDA', 'NDA', 556, 42, 'NDA', Decimal('1164504.290'), Decimal('1873959.199'), Decimal('41.80975690'), Decimal('-87.67214460'), 61, 'NEW CITY', 20, 9, '(41.8097569, -87.6721446)'),\n (610513, 'Air Force Academy High School', 'HS', '3630 S Wells St', 'Chicago', 'IL', 60609, '(773) 535-1590', 'http://schoolreports.cps.edu/SchoolProgressReport_Eng/Spring2011Eng_610513.pdf', 'Southwest Side High School Network', 'SOUTHWEST SIDE COLLABORATIVE', 'NDA', 'Standard', 'Not on Probation', 'Not Enough Data', 'Yes', 'Average', 49, 'Strong', '60', 'Strong', 60, 'Average', 55, 'Weak', '45', 'Average', '54', 'Average', '53', 'Average', '49', '93.30%', Decimal('15.6'), '96.90%', '100.00%', 'NDA', 'NDA', 'NDA', 'NDA', 'NDA', 'NDA', 'NDA', 'NDA', 'NDA', 'NDA', 'NDA', 'NDA', None, None, None, None, 'NDA', 'NDA', 'NDA', 'NDA', '14.6', '14.8', 'NDA', '16', '1.4', 'NDA', 'NDA', 'NDA', 'NDA', 'NDA', 302, 40, '91.8', Decimal('1175177.622'), Decimal('1880745.126'), Decimal('41.82814609'), Decimal('-87.63279369'), 34, 'ARMOUR SQUARE', 11, 9, '(41.82814609, -87.63279369)'),\n (610212, 'Albany Park Multicultural Academy', 'MS', '4929 N Sawyer Ave', 'Chicago', 'IL', 60625, '(773) 534-5108', 'http://schoolreports.cps.edu/SchoolProgressReport_Eng/Spring2011Eng_610212.pdf', \"O'Hare Elementary Network\", 'NORTH-NORTHWEST SIDE COLLABORATIVE', 'Yes', 'Standard', 'Not on Probation', 'Level 1', 'No', 'Strong', 66, 'Weak', '37', 'Strong', 66, 'Strong', 71, 'Weak', '43', 'Average', '50', 'Weak', '46', 'Average', '51', '97.00%', Decimal('2.3'), '96.90%', '100.00%', 'NDA', 'NDA', 'NDA', 'NDA', 'NDA', 'NDA', '60.7', '39.8', '53.7', '59.8', '17.5', '20.8', Decimal('34.5'), Decimal('15.6'), Decimal('0.2'), Decimal('0.3'), 'Yellow', 'Yellow', '29.2', '50', 'NDA', 'NDA', 'NDA', 'NDA', 'NDA', 'NDA', 'NDA', 'NDA', 'NDA', 'NDA', 266, 31, 'NDA', Decimal('1153858.196'), Decimal('1932691.891'), Decimal('41.97114330'), Decimal('-87.70962725'), 14, 'ALBANY PARK', 39, 17, '(41.9711433, -87.70962725)'),\n (609720, 'Albert G Lane Technical High School', 'HS', '2501 W Addison St', 'Chicago', 'IL', 60618, '(773) 534-5400', 'http://schoolreports.cps.edu/SchoolProgressReport_Eng/Spring2011Eng_609720.pdf', 'North-Northwest Side High School Network', 'NORTH-NORTHWEST SIDE COLLABORATIVE', 'Yes', 'Standard', 'Not on Probation', 'Level 1', 'No', 'Very Strong', 88, 'NDA', 'NDA', 'Strong', 62, 'Average', 52, 'Weak', 'NDA', 'NDA', 'NDA', 'NDA', 'NDA', 'NDA', 'NDA', '96.30%', Decimal('2.1'), '96.20%', '99.40%', 'NDA', 'NDA', 'NDA', 'NDA', 'NDA', 'NDA', 'NDA', 'NDA', 'NDA', 'NDA', 'NDA', 'NDA', None, None, None, None, 'NDA', 'NDA', 'NDA', 'NDA', '19.1', '19.5', '19.9', '20.1', '1', '23.4', '3.5', '67.9', '92.2', '79.8', 4368, 35, '90.7', Decimal('1158975.392'), Decimal('1923791.705'), Decimal('41.94661693'), Decimal('-87.69105603'), 5, 'NORTH CENTER', 47, 19, '(41.94661693, -87.69105603)'),\n (610342, 'Albert R Sabin Elementary Magnet School', 'ES', '2216 W Hirsch St', 'Chicago', 'IL', 60622, '(773) 534-4491', 'http://schoolreports.cps.edu/SchoolProgressReport_Eng/Spring2011Eng_610342.pdf', 'Fulton Elementary Network', 'WEST SIDE COLLABORATIVE', 'No', 'Standard', 'Probation', 'Level 3', 'No', 'Strong', 67, 'NDA', 'NDA', 'Weak', 30, 'Very Weak', 18, 'Weak', 'NDA', 'NDA', 'NDA', 'NDA', 'NDA', 'NDA', 'NDA', '94.70%', Decimal('28.1'), '95.00%', '100.00%', '56.3', 'NDA', '33.5', '33.5', '49.5', '49.5', '27.4', '39.3', '35.5', '44.4', '25', '23.4', Decimal('18.0'), Decimal('12.8'), Decimal('-1.8'), Decimal('0.1'), 'Red', 'Yellow', 'NDA', 'NDA', 'NDA', 'NDA', 'NDA', 'NDA', 'NDA', 'NDA', 'NDA', 'NDA', 'NDA', 'NDA', 620, 35, 'NDA', Decimal('1161265.299'), Decimal('1909314.592'), Decimal('41.90684338'), Decimal('-87.68304259'), 24, 'WEST TOWN', 1, 14, '(41.90684338, -87.68304259)'),\n (610524, 'Alcott High School for the Humanities', 'HS', '2957 N Hoyne Ave', 'Chicago', 'IL', 60618, '(773) 534-5979', 'http://schoolreports.cps.edu/SchoolProgressReport_Eng/Spring2011Eng_610524.pdf', 'North-Northwest Side High School Network', 'NORTH-NORTHWEST SIDE COLLABORATIVE', 'NDA', 'Standard', 'Not on Probation', 'Not Enough Data', 'No', 'Strong', 70, 'NDA', 'NDA', 'Strong', 67, 'Average', 51, 'Weak', 'NDA', 'NDA', 'NDA', 'Strong', '57', 'Weak', '43', '92.70%', Decimal('7.1'), '96.90%', '100.00%', 'NDA', 'NDA', 'NDA', 'NDA', 'NDA', 'NDA', 'NDA', 'NDA', 'NDA', 'NDA', 'NDA', 'NDA', None, None, None, None, 'NDA', 'NDA', 'NDA', 'NDA', '14.7', '13.7', 'NDA', '16', '1.3', 'NDA', 'NDA', 'NDA', 'NDA', 'NDA', 232, 33, '87.6', Decimal('1161870.556'), Decimal('1919857.440'), Decimal('41.93576106'), Decimal('-87.68052441'), 5, 'NORTH CENTER', 1, 19, '(41.93576106, -87.68052441)'),\n (610209, 'Alessandro Volta Elementary School', 'ES', '4950 N Avers Ave', 'Chicago', 'IL', 60625, '(773) 534-5080', 'http://schoolreports.cps.edu/SchoolProgressReport_Eng/Spring2011Eng_610209.pdf', \"O'Hare Elementary Network\", 'NORTH-NORTHWEST SIDE COLLABORATIVE', 'No', 'Track_E', 'Not on Probation', 'Level 2', 'No', 'Average', 43, 'Strong', '61', 'Weak', 28, 'Weak', 37, 'Weak', '62', 'Average', '56', 'Average', '51', 'Average', '53', '96.40%', Decimal('22.5'), '95.90%', '100.00%', '63.9', '43.2', '51.3', '32.9', '50.7', '70', '52.5', '31.3', '59.8', '57.6', '16.5', '24.7', Decimal('19.9'), Decimal('14.2'), Decimal('0.3'), Decimal('-0.4'), 'Yellow', 'Yellow', '31.6', '65.2', 'NDA', 'NDA', 'NDA', 'NDA', 'NDA', 'NDA', 'NDA', 'NDA', 'NDA', 'NDA', 1023, 31, 'NDA', Decimal('1149774.095'), Decimal('1932831.151'), Decimal('41.97160605'), Decimal('-87.72464139'), 14, 'ALBANY PARK', 39, 17, '(41.97160605, -87.72464139)')]",
                        "text/html": "<table>\n    <tr>\n        <th>school_id</th>\n        <th>name_of_school</th>\n        <th>Elementary, Middle, or High School</th>\n        <th>street_address</th>\n        <th>city</th>\n        <th>state</th>\n        <th>zip_code</th>\n        <th>phone_number</th>\n        <th>link</th>\n        <th>network_manager</th>\n        <th>collaborative_name</th>\n        <th>adequate_yearly_progress_made_</th>\n        <th>track_schedule</th>\n        <th>cps_performance_policy_status</th>\n        <th>cps_performance_policy_level</th>\n        <th>healthy_school_certified</th>\n        <th>safety_icon</th>\n        <th>safety_score</th>\n        <th>family_involvement_icon</th>\n        <th>family_involvement_score</th>\n        <th>environment_icon</th>\n        <th>environment_score</th>\n        <th>instruction_icon</th>\n        <th>instruction_score</th>\n        <th>leaders_icon</th>\n        <th>leaders_score</th>\n        <th>teachers_icon</th>\n        <th>teachers_score</th>\n        <th>parent_engagement_icon</th>\n        <th>parent_engagement_score</th>\n        <th>parent_environment_icon</th>\n        <th>parent_environment_score</th>\n        <th>average_student_attendance</th>\n        <th>rate_of_misconducts__per_100_students_</th>\n        <th>average_teacher_attendance</th>\n        <th>individualized_education_program_compliance_rate</th>\n        <th>pk_2_literacy__</th>\n        <th>pk_2_math__</th>\n        <th>gr3_5_grade_level_math__</th>\n        <th>gr3_5_grade_level_read__</th>\n        <th>gr3_5_keep_pace_read__</th>\n        <th>gr3_5_keep_pace_math__</th>\n        <th>gr6_8_grade_level_math__</th>\n        <th>gr6_8_grade_level_read__</th>\n        <th>gr6_8_keep_pace_math_</th>\n        <th>gr6_8_keep_pace_read__</th>\n        <th>gr_8_explore_math__</th>\n        <th>gr_8_explore_read__</th>\n        <th>isat_exceeding_math__</th>\n        <th>isat_exceeding_reading__</th>\n        <th>isat_value_add_math</th>\n        <th>isat_value_add_read</th>\n        <th>isat_value_add_color_math</th>\n        <th>isat_value_add_color_read</th>\n        <th>students_taking__algebra__</th>\n        <th>students_passing__algebra__</th>\n        <th>9th Grade EXPLORE (2009)</th>\n        <th>9th Grade EXPLORE (2010)</th>\n        <th>10th Grade PLAN (2009)</th>\n        <th>10th Grade PLAN (2010)</th>\n        <th>net_change_explore_and_plan</th>\n        <th>11th Grade Average ACT (2011)</th>\n        <th>net_change_plan_and_act</th>\n        <th>college_eligibility__</th>\n        <th>graduation_rate__</th>\n        <th>college_enrollment_rate__</th>\n        <th>college_enrollment</th>\n        <th>general_services_route</th>\n        <th>freshman_on_track_rate__</th>\n        <th>x_coordinate</th>\n        <th>y_coordinate</th>\n        <th>latitude</th>\n        <th>longitude</th>\n        <th>community_area_number</th>\n        <th>community_area_name</th>\n        <th>ward</th>\n        <th>police_district</th>\n        <th>location</th>\n    </tr>\n    <tr>\n        <td>610038</td>\n        <td>Abraham Lincoln Elementary School</td>\n        <td>ES</td>\n        <td>615 W Kemper Pl</td>\n        <td>Chicago</td>\n        <td>IL</td>\n        <td>60614</td>\n        <td>(773) 534-5720</td>\n        <td>http://schoolreports.cps.edu/SchoolProgressReport_Eng/Spring2011Eng_610038.pdf</td>\n        <td>Fullerton Elementary Network</td>\n        <td>NORTH-NORTHWEST SIDE COLLABORATIVE</td>\n        <td>No</td>\n        <td>Standard</td>\n        <td>Not on Probation</td>\n        <td>Level 1</td>\n        <td>Yes</td>\n        <td>Very Strong</td>\n        <td>99</td>\n        <td>Very Strong</td>\n        <td>99</td>\n        <td>Strong</td>\n        <td>74</td>\n        <td>Strong</td>\n        <td>66</td>\n        <td>Weak</td>\n        <td>65</td>\n        <td>Strong</td>\n        <td>70</td>\n        <td>Strong</td>\n        <td>56</td>\n        <td>Average</td>\n        <td>47</td>\n        <td>96.00%</td>\n        <td>2.0</td>\n        <td>96.40%</td>\n        <td>95.80%</td>\n        <td>80.1</td>\n        <td>43.3</td>\n        <td>89.6</td>\n        <td>84.9</td>\n        <td>60.7</td>\n        <td>62.6</td>\n        <td>81.9</td>\n        <td>85.2</td>\n        <td>52</td>\n        <td>62.4</td>\n        <td>66.3</td>\n        <td>77.9</td>\n        <td>69.7</td>\n        <td>64.4</td>\n        <td>0.2</td>\n        <td>0.9</td>\n        <td>Yellow</td>\n        <td>Green</td>\n        <td>67.1</td>\n        <td>54.5</td>\n        <td>NDA</td>\n        <td>NDA</td>\n        <td>NDA</td>\n        <td>NDA</td>\n        <td>NDA</td>\n        <td>NDA</td>\n        <td>NDA</td>\n        <td>NDA</td>\n        <td>NDA</td>\n        <td>NDA</td>\n        <td>813</td>\n        <td>33</td>\n        <td>NDA</td>\n        <td>1171699.458</td>\n        <td>1915829.428</td>\n        <td>41.92449696</td>\n        <td>-87.64452163</td>\n        <td>7</td>\n        <td>LINCOLN PARK</td>\n        <td>43</td>\n        <td>18</td>\n        <td>(41.92449696, -87.64452163)</td>\n    </tr>\n    <tr>\n        <td>610281</td>\n        <td>Adam Clayton Powell Paideia Community Academy Elementary School</td>\n        <td>ES</td>\n        <td>7511 S South Shore Dr</td>\n        <td>Chicago</td>\n        <td>IL</td>\n        <td>60649</td>\n        <td>(773) 535-6650</td>\n        <td>http://schoolreports.cps.edu/SchoolProgressReport_Eng/Spring2011Eng_610281.pdf</td>\n        <td>Skyway Elementary Network</td>\n        <td>SOUTH SIDE COLLABORATIVE</td>\n        <td>No</td>\n        <td>Track_E</td>\n        <td>Not on Probation</td>\n        <td>Level 1</td>\n        <td>No</td>\n        <td>Average</td>\n        <td>54</td>\n        <td>Strong</td>\n        <td>66</td>\n        <td>Strong</td>\n        <td>74</td>\n        <td>Very Strong</td>\n        <td>84</td>\n        <td>Weak</td>\n        <td>63</td>\n        <td>Strong</td>\n        <td>76</td>\n        <td>Weak</td>\n        <td>46</td>\n        <td>Average</td>\n        <td>50</td>\n        <td>95.60%</td>\n        <td>15.7</td>\n        <td>95.30%</td>\n        <td>100.00%</td>\n        <td>62.4</td>\n        <td>51.7</td>\n        <td>21.9</td>\n        <td>15.1</td>\n        <td>29</td>\n        <td>42.8</td>\n        <td>38.5</td>\n        <td>27.4</td>\n        <td>44.8</td>\n        <td>42.7</td>\n        <td>14.1</td>\n        <td>34.4</td>\n        <td>16.8</td>\n        <td>16.5</td>\n        <td>0.7</td>\n        <td>1.4</td>\n        <td>Green</td>\n        <td>Green</td>\n        <td>17.2</td>\n        <td>27.3</td>\n        <td>NDA</td>\n        <td>NDA</td>\n        <td>NDA</td>\n        <td>NDA</td>\n        <td>NDA</td>\n        <td>NDA</td>\n        <td>NDA</td>\n        <td>NDA</td>\n        <td>NDA</td>\n        <td>NDA</td>\n        <td>521</td>\n        <td>46</td>\n        <td>NDA</td>\n        <td>1196129.985</td>\n        <td>1856209.466</td>\n        <td>41.76032435</td>\n        <td>-87.55673627</td>\n        <td>43</td>\n        <td>SOUTH SHORE</td>\n        <td>7</td>\n        <td>4</td>\n        <td>(41.76032435, -87.55673627)</td>\n    </tr>\n    <tr>\n        <td>610185</td>\n        <td>Adlai E Stevenson Elementary School</td>\n        <td>ES</td>\n        <td>8010 S Kostner Ave</td>\n        <td>Chicago</td>\n        <td>IL</td>\n        <td>60652</td>\n        <td>(773) 535-2280</td>\n        <td>http://schoolreports.cps.edu/SchoolProgressReport_Eng/Spring2011Eng_610185.pdf</td>\n        <td>Midway Elementary Network</td>\n        <td>SOUTHWEST SIDE COLLABORATIVE</td>\n        <td>No</td>\n        <td>Standard</td>\n        <td>Not on Probation</td>\n        <td>Level 2</td>\n        <td>No</td>\n        <td>Strong</td>\n        <td>61</td>\n        <td>NDA</td>\n        <td>NDA</td>\n        <td>Average</td>\n        <td>50</td>\n        <td>Weak</td>\n        <td>36</td>\n        <td>Weak</td>\n        <td>NDA</td>\n        <td>NDA</td>\n        <td>NDA</td>\n        <td>Average</td>\n        <td>47</td>\n        <td>Weak</td>\n        <td>41</td>\n        <td>95.70%</td>\n        <td>2.3</td>\n        <td>94.70%</td>\n        <td>98.30%</td>\n        <td>53.7</td>\n        <td>26.6</td>\n        <td>38.3</td>\n        <td>34.7</td>\n        <td>43.7</td>\n        <td>57.3</td>\n        <td>48.8</td>\n        <td>39.2</td>\n        <td>46.8</td>\n        <td>44</td>\n        <td>7.5</td>\n        <td>21.9</td>\n        <td>18.3</td>\n        <td>15.5</td>\n        <td>-0.9</td>\n        <td>-1.0</td>\n        <td>Red</td>\n        <td>Red</td>\n        <td>NDA</td>\n        <td>NDA</td>\n        <td>NDA</td>\n        <td>NDA</td>\n        <td>NDA</td>\n        <td>NDA</td>\n        <td>NDA</td>\n        <td>NDA</td>\n        <td>NDA</td>\n        <td>NDA</td>\n        <td>NDA</td>\n        <td>NDA</td>\n        <td>1324</td>\n        <td>44</td>\n        <td>NDA</td>\n        <td>1148427.165</td>\n        <td>1851012.215</td>\n        <td>41.74711093</td>\n        <td>-87.73170248</td>\n        <td>70</td>\n        <td>ASHBURN</td>\n        <td>13</td>\n        <td>8</td>\n        <td>(41.74711093, -87.73170248)</td>\n    </tr>\n    <tr>\n        <td>609993</td>\n        <td>Agustin Lara Elementary Academy</td>\n        <td>ES</td>\n        <td>4619 S Wolcott Ave</td>\n        <td>Chicago</td>\n        <td>IL</td>\n        <td>60609</td>\n        <td>(773) 535-4389</td>\n        <td>http://schoolreports.cps.edu/SchoolProgressReport_Eng/Spring2011Eng_609993.pdf</td>\n        <td>Pershing Elementary Network</td>\n        <td>SOUTHWEST SIDE COLLABORATIVE</td>\n        <td>No</td>\n        <td>Track_E</td>\n        <td>Not on Probation</td>\n        <td>Level 1</td>\n        <td>No</td>\n        <td>Average</td>\n        <td>56</td>\n        <td>Average</td>\n        <td>44</td>\n        <td>Average</td>\n        <td>45</td>\n        <td>Weak</td>\n        <td>37</td>\n        <td>Weak</td>\n        <td>65</td>\n        <td>Average</td>\n        <td>48</td>\n        <td>Average</td>\n        <td>53</td>\n        <td>Strong</td>\n        <td>58</td>\n        <td>95.50%</td>\n        <td>10.4</td>\n        <td>95.80%</td>\n        <td>100.00%</td>\n        <td>76.9</td>\n        <td>NDA</td>\n        <td>26</td>\n        <td>24.7</td>\n        <td>61.8</td>\n        <td>49.7</td>\n        <td>39.2</td>\n        <td>27.2</td>\n        <td>69.7</td>\n        <td>60.6</td>\n        <td>9.1</td>\n        <td>18.2</td>\n        <td>11.1</td>\n        <td>9.6</td>\n        <td>0.9</td>\n        <td>2.4</td>\n        <td>Green</td>\n        <td>Green</td>\n        <td>42.9</td>\n        <td>25</td>\n        <td>NDA</td>\n        <td>NDA</td>\n        <td>NDA</td>\n        <td>NDA</td>\n        <td>NDA</td>\n        <td>NDA</td>\n        <td>NDA</td>\n        <td>NDA</td>\n        <td>NDA</td>\n        <td>NDA</td>\n        <td>556</td>\n        <td>42</td>\n        <td>NDA</td>\n        <td>1164504.290</td>\n        <td>1873959.199</td>\n        <td>41.80975690</td>\n        <td>-87.67214460</td>\n        <td>61</td>\n        <td>NEW CITY</td>\n        <td>20</td>\n        <td>9</td>\n        <td>(41.8097569, -87.6721446)</td>\n    </tr>\n    <tr>\n        <td>610513</td>\n        <td>Air Force Academy High School</td>\n        <td>HS</td>\n        <td>3630 S Wells St</td>\n        <td>Chicago</td>\n        <td>IL</td>\n        <td>60609</td>\n        <td>(773) 535-1590</td>\n        <td>http://schoolreports.cps.edu/SchoolProgressReport_Eng/Spring2011Eng_610513.pdf</td>\n        <td>Southwest Side High School Network</td>\n        <td>SOUTHWEST SIDE COLLABORATIVE</td>\n        <td>NDA</td>\n        <td>Standard</td>\n        <td>Not on Probation</td>\n        <td>Not Enough Data</td>\n        <td>Yes</td>\n        <td>Average</td>\n        <td>49</td>\n        <td>Strong</td>\n        <td>60</td>\n        <td>Strong</td>\n        <td>60</td>\n        <td>Average</td>\n        <td>55</td>\n        <td>Weak</td>\n        <td>45</td>\n        <td>Average</td>\n        <td>54</td>\n        <td>Average</td>\n        <td>53</td>\n        <td>Average</td>\n        <td>49</td>\n        <td>93.30%</td>\n        <td>15.6</td>\n        <td>96.90%</td>\n        <td>100.00%</td>\n        <td>NDA</td>\n        <td>NDA</td>\n        <td>NDA</td>\n        <td>NDA</td>\n        <td>NDA</td>\n        <td>NDA</td>\n        <td>NDA</td>\n        <td>NDA</td>\n        <td>NDA</td>\n        <td>NDA</td>\n        <td>NDA</td>\n        <td>NDA</td>\n        <td>None</td>\n        <td>None</td>\n        <td>None</td>\n        <td>None</td>\n        <td>NDA</td>\n        <td>NDA</td>\n        <td>NDA</td>\n        <td>NDA</td>\n        <td>14.6</td>\n        <td>14.8</td>\n        <td>NDA</td>\n        <td>16</td>\n        <td>1.4</td>\n        <td>NDA</td>\n        <td>NDA</td>\n        <td>NDA</td>\n        <td>NDA</td>\n        <td>NDA</td>\n        <td>302</td>\n        <td>40</td>\n        <td>91.8</td>\n        <td>1175177.622</td>\n        <td>1880745.126</td>\n        <td>41.82814609</td>\n        <td>-87.63279369</td>\n        <td>34</td>\n        <td>ARMOUR SQUARE</td>\n        <td>11</td>\n        <td>9</td>\n        <td>(41.82814609, -87.63279369)</td>\n    </tr>\n    <tr>\n        <td>610212</td>\n        <td>Albany Park Multicultural Academy</td>\n        <td>MS</td>\n        <td>4929 N Sawyer Ave</td>\n        <td>Chicago</td>\n        <td>IL</td>\n        <td>60625</td>\n        <td>(773) 534-5108</td>\n        <td>http://schoolreports.cps.edu/SchoolProgressReport_Eng/Spring2011Eng_610212.pdf</td>\n        <td>O&#x27;Hare Elementary Network</td>\n        <td>NORTH-NORTHWEST SIDE COLLABORATIVE</td>\n        <td>Yes</td>\n        <td>Standard</td>\n        <td>Not on Probation</td>\n        <td>Level 1</td>\n        <td>No</td>\n        <td>Strong</td>\n        <td>66</td>\n        <td>Weak</td>\n        <td>37</td>\n        <td>Strong</td>\n        <td>66</td>\n        <td>Strong</td>\n        <td>71</td>\n        <td>Weak</td>\n        <td>43</td>\n        <td>Average</td>\n        <td>50</td>\n        <td>Weak</td>\n        <td>46</td>\n        <td>Average</td>\n        <td>51</td>\n        <td>97.00%</td>\n        <td>2.3</td>\n        <td>96.90%</td>\n        <td>100.00%</td>\n        <td>NDA</td>\n        <td>NDA</td>\n        <td>NDA</td>\n        <td>NDA</td>\n        <td>NDA</td>\n        <td>NDA</td>\n        <td>60.7</td>\n        <td>39.8</td>\n        <td>53.7</td>\n        <td>59.8</td>\n        <td>17.5</td>\n        <td>20.8</td>\n        <td>34.5</td>\n        <td>15.6</td>\n        <td>0.2</td>\n        <td>0.3</td>\n        <td>Yellow</td>\n        <td>Yellow</td>\n        <td>29.2</td>\n        <td>50</td>\n        <td>NDA</td>\n        <td>NDA</td>\n        <td>NDA</td>\n        <td>NDA</td>\n        <td>NDA</td>\n        <td>NDA</td>\n        <td>NDA</td>\n        <td>NDA</td>\n        <td>NDA</td>\n        <td>NDA</td>\n        <td>266</td>\n        <td>31</td>\n        <td>NDA</td>\n        <td>1153858.196</td>\n        <td>1932691.891</td>\n        <td>41.97114330</td>\n        <td>-87.70962725</td>\n        <td>14</td>\n        <td>ALBANY PARK</td>\n        <td>39</td>\n        <td>17</td>\n        <td>(41.9711433, -87.70962725)</td>\n    </tr>\n    <tr>\n        <td>609720</td>\n        <td>Albert G Lane Technical High School</td>\n        <td>HS</td>\n        <td>2501 W Addison St</td>\n        <td>Chicago</td>\n        <td>IL</td>\n        <td>60618</td>\n        <td>(773) 534-5400</td>\n        <td>http://schoolreports.cps.edu/SchoolProgressReport_Eng/Spring2011Eng_609720.pdf</td>\n        <td>North-Northwest Side High School Network</td>\n        <td>NORTH-NORTHWEST SIDE COLLABORATIVE</td>\n        <td>Yes</td>\n        <td>Standard</td>\n        <td>Not on Probation</td>\n        <td>Level 1</td>\n        <td>No</td>\n        <td>Very Strong</td>\n        <td>88</td>\n        <td>NDA</td>\n        <td>NDA</td>\n        <td>Strong</td>\n        <td>62</td>\n        <td>Average</td>\n        <td>52</td>\n        <td>Weak</td>\n        <td>NDA</td>\n        <td>NDA</td>\n        <td>NDA</td>\n        <td>NDA</td>\n        <td>NDA</td>\n        <td>NDA</td>\n        <td>NDA</td>\n        <td>96.30%</td>\n        <td>2.1</td>\n        <td>96.20%</td>\n        <td>99.40%</td>\n        <td>NDA</td>\n        <td>NDA</td>\n        <td>NDA</td>\n        <td>NDA</td>\n        <td>NDA</td>\n        <td>NDA</td>\n        <td>NDA</td>\n        <td>NDA</td>\n        <td>NDA</td>\n        <td>NDA</td>\n        <td>NDA</td>\n        <td>NDA</td>\n        <td>None</td>\n        <td>None</td>\n        <td>None</td>\n        <td>None</td>\n        <td>NDA</td>\n        <td>NDA</td>\n        <td>NDA</td>\n        <td>NDA</td>\n        <td>19.1</td>\n        <td>19.5</td>\n        <td>19.9</td>\n        <td>20.1</td>\n        <td>1</td>\n        <td>23.4</td>\n        <td>3.5</td>\n        <td>67.9</td>\n        <td>92.2</td>\n        <td>79.8</td>\n        <td>4368</td>\n        <td>35</td>\n        <td>90.7</td>\n        <td>1158975.392</td>\n        <td>1923791.705</td>\n        <td>41.94661693</td>\n        <td>-87.69105603</td>\n        <td>5</td>\n        <td>NORTH CENTER</td>\n        <td>47</td>\n        <td>19</td>\n        <td>(41.94661693, -87.69105603)</td>\n    </tr>\n    <tr>\n        <td>610342</td>\n        <td>Albert R Sabin Elementary Magnet School</td>\n        <td>ES</td>\n        <td>2216 W Hirsch St</td>\n        <td>Chicago</td>\n        <td>IL</td>\n        <td>60622</td>\n        <td>(773) 534-4491</td>\n        <td>http://schoolreports.cps.edu/SchoolProgressReport_Eng/Spring2011Eng_610342.pdf</td>\n        <td>Fulton Elementary Network</td>\n        <td>WEST SIDE COLLABORATIVE</td>\n        <td>No</td>\n        <td>Standard</td>\n        <td>Probation</td>\n        <td>Level 3</td>\n        <td>No</td>\n        <td>Strong</td>\n        <td>67</td>\n        <td>NDA</td>\n        <td>NDA</td>\n        <td>Weak</td>\n        <td>30</td>\n        <td>Very Weak</td>\n        <td>18</td>\n        <td>Weak</td>\n        <td>NDA</td>\n        <td>NDA</td>\n        <td>NDA</td>\n        <td>NDA</td>\n        <td>NDA</td>\n        <td>NDA</td>\n        <td>NDA</td>\n        <td>94.70%</td>\n        <td>28.1</td>\n        <td>95.00%</td>\n        <td>100.00%</td>\n        <td>56.3</td>\n        <td>NDA</td>\n        <td>33.5</td>\n        <td>33.5</td>\n        <td>49.5</td>\n        <td>49.5</td>\n        <td>27.4</td>\n        <td>39.3</td>\n        <td>35.5</td>\n        <td>44.4</td>\n        <td>25</td>\n        <td>23.4</td>\n        <td>18.0</td>\n        <td>12.8</td>\n        <td>-1.8</td>\n        <td>0.1</td>\n        <td>Red</td>\n        <td>Yellow</td>\n        <td>NDA</td>\n        <td>NDA</td>\n        <td>NDA</td>\n        <td>NDA</td>\n        <td>NDA</td>\n        <td>NDA</td>\n        <td>NDA</td>\n        <td>NDA</td>\n        <td>NDA</td>\n        <td>NDA</td>\n        <td>NDA</td>\n        <td>NDA</td>\n        <td>620</td>\n        <td>35</td>\n        <td>NDA</td>\n        <td>1161265.299</td>\n        <td>1909314.592</td>\n        <td>41.90684338</td>\n        <td>-87.68304259</td>\n        <td>24</td>\n        <td>WEST TOWN</td>\n        <td>1</td>\n        <td>14</td>\n        <td>(41.90684338, -87.68304259)</td>\n    </tr>\n    <tr>\n        <td>610524</td>\n        <td>Alcott High School for the Humanities</td>\n        <td>HS</td>\n        <td>2957 N Hoyne Ave</td>\n        <td>Chicago</td>\n        <td>IL</td>\n        <td>60618</td>\n        <td>(773) 534-5979</td>\n        <td>http://schoolreports.cps.edu/SchoolProgressReport_Eng/Spring2011Eng_610524.pdf</td>\n        <td>North-Northwest Side High School Network</td>\n        <td>NORTH-NORTHWEST SIDE COLLABORATIVE</td>\n        <td>NDA</td>\n        <td>Standard</td>\n        <td>Not on Probation</td>\n        <td>Not Enough Data</td>\n        <td>No</td>\n        <td>Strong</td>\n        <td>70</td>\n        <td>NDA</td>\n        <td>NDA</td>\n        <td>Strong</td>\n        <td>67</td>\n        <td>Average</td>\n        <td>51</td>\n        <td>Weak</td>\n        <td>NDA</td>\n        <td>NDA</td>\n        <td>NDA</td>\n        <td>Strong</td>\n        <td>57</td>\n        <td>Weak</td>\n        <td>43</td>\n        <td>92.70%</td>\n        <td>7.1</td>\n        <td>96.90%</td>\n        <td>100.00%</td>\n        <td>NDA</td>\n        <td>NDA</td>\n        <td>NDA</td>\n        <td>NDA</td>\n        <td>NDA</td>\n        <td>NDA</td>\n        <td>NDA</td>\n        <td>NDA</td>\n        <td>NDA</td>\n        <td>NDA</td>\n        <td>NDA</td>\n        <td>NDA</td>\n        <td>None</td>\n        <td>None</td>\n        <td>None</td>\n        <td>None</td>\n        <td>NDA</td>\n        <td>NDA</td>\n        <td>NDA</td>\n        <td>NDA</td>\n        <td>14.7</td>\n        <td>13.7</td>\n        <td>NDA</td>\n        <td>16</td>\n        <td>1.3</td>\n        <td>NDA</td>\n        <td>NDA</td>\n        <td>NDA</td>\n        <td>NDA</td>\n        <td>NDA</td>\n        <td>232</td>\n        <td>33</td>\n        <td>87.6</td>\n        <td>1161870.556</td>\n        <td>1919857.440</td>\n        <td>41.93576106</td>\n        <td>-87.68052441</td>\n        <td>5</td>\n        <td>NORTH CENTER</td>\n        <td>1</td>\n        <td>19</td>\n        <td>(41.93576106, -87.68052441)</td>\n    </tr>\n    <tr>\n        <td>610209</td>\n        <td>Alessandro Volta Elementary School</td>\n        <td>ES</td>\n        <td>4950 N Avers Ave</td>\n        <td>Chicago</td>\n        <td>IL</td>\n        <td>60625</td>\n        <td>(773) 534-5080</td>\n        <td>http://schoolreports.cps.edu/SchoolProgressReport_Eng/Spring2011Eng_610209.pdf</td>\n        <td>O&#x27;Hare Elementary Network</td>\n        <td>NORTH-NORTHWEST SIDE COLLABORATIVE</td>\n        <td>No</td>\n        <td>Track_E</td>\n        <td>Not on Probation</td>\n        <td>Level 2</td>\n        <td>No</td>\n        <td>Average</td>\n        <td>43</td>\n        <td>Strong</td>\n        <td>61</td>\n        <td>Weak</td>\n        <td>28</td>\n        <td>Weak</td>\n        <td>37</td>\n        <td>Weak</td>\n        <td>62</td>\n        <td>Average</td>\n        <td>56</td>\n        <td>Average</td>\n        <td>51</td>\n        <td>Average</td>\n        <td>53</td>\n        <td>96.40%</td>\n        <td>22.5</td>\n        <td>95.90%</td>\n        <td>100.00%</td>\n        <td>63.9</td>\n        <td>43.2</td>\n        <td>51.3</td>\n        <td>32.9</td>\n        <td>50.7</td>\n        <td>70</td>\n        <td>52.5</td>\n        <td>31.3</td>\n        <td>59.8</td>\n        <td>57.6</td>\n        <td>16.5</td>\n        <td>24.7</td>\n        <td>19.9</td>\n        <td>14.2</td>\n        <td>0.3</td>\n        <td>-0.4</td>\n        <td>Yellow</td>\n        <td>Yellow</td>\n        <td>31.6</td>\n        <td>65.2</td>\n        <td>NDA</td>\n        <td>NDA</td>\n        <td>NDA</td>\n        <td>NDA</td>\n        <td>NDA</td>\n        <td>NDA</td>\n        <td>NDA</td>\n        <td>NDA</td>\n        <td>NDA</td>\n        <td>NDA</td>\n        <td>1023</td>\n        <td>31</td>\n        <td>NDA</td>\n        <td>1149774.095</td>\n        <td>1932831.151</td>\n        <td>41.97160605</td>\n        <td>-87.72464139</td>\n        <td>14</td>\n        <td>ALBANY PARK</td>\n        <td>39</td>\n        <td>17</td>\n        <td>(41.97160605, -87.72464139)</td>\n    </tr>\n</table>"
                    },
                    "metadata": {}
                }
            ]
        },
        {
            "metadata": {},
            "cell_type": "markdown",
            "source": "# Problem 1: Find the total number of crimes recorded in the CRIME table."
        },
        {
            "metadata": {},
            "cell_type": "code",
            "source": "%%sql\nSELECT COUNT(*)AS NUMBER_OF_CRIMES \nFROM CHICAGO_CRIME_DATA;",
            "execution_count": 31,
            "outputs": [
                {
                    "output_type": "stream",
                    "text": " * ibm_db_sa://vbq04302:***@0c77d6f2-5da9-48a9-81f8-86b520b87518.bs2io90l08kqb1od8lcg.databases.appdomain.cloud:31198/bludb\nDone.\n",
                    "name": "stdout"
                },
                {
                    "output_type": "execute_result",
                    "execution_count": 31,
                    "data": {
                        "text/plain": "[(533,)]",
                        "text/html": "<table>\n    <tr>\n        <th>number_of_crimes</th>\n    </tr>\n    <tr>\n        <td>533</td>\n    </tr>\n</table>"
                    },
                    "metadata": {}
                }
            ]
        },
        {
            "metadata": {},
            "cell_type": "markdown",
            "source": "# Problem 2: List community areas with per capita income less than 11000."
        },
        {
            "metadata": {},
            "cell_type": "code",
            "source": "%%sql\nSELECT COMMUNITY_AREA_NAME, PER_CAPITA_INCOME \nFROM CENSUS_DATA \nWHERE PER_CAPITA_INCOME < 11000;",
            "execution_count": 30,
            "outputs": [
                {
                    "output_type": "stream",
                    "text": " * ibm_db_sa://vbq04302:***@0c77d6f2-5da9-48a9-81f8-86b520b87518.bs2io90l08kqb1od8lcg.databases.appdomain.cloud:31198/bludb\nDone.\n",
                    "name": "stdout"
                },
                {
                    "output_type": "execute_result",
                    "execution_count": 30,
                    "data": {
                        "text/plain": "[('West Garfield Park', 10934),\n ('South Lawndale', 10402),\n ('Fuller Park', 10432),\n ('Riverdale', 8201)]",
                        "text/html": "<table>\n    <tr>\n        <th>community_area_name</th>\n        <th>per_capita_income</th>\n    </tr>\n    <tr>\n        <td>West Garfield Park</td>\n        <td>10934</td>\n    </tr>\n    <tr>\n        <td>South Lawndale</td>\n        <td>10402</td>\n    </tr>\n    <tr>\n        <td>Fuller Park</td>\n        <td>10432</td>\n    </tr>\n    <tr>\n        <td>Riverdale</td>\n        <td>8201</td>\n    </tr>\n</table>"
                    },
                    "metadata": {}
                }
            ]
        },
        {
            "metadata": {},
            "cell_type": "markdown",
            "source": "# Problem 3: List all case numbers for crimes involving minors?"
        },
        {
            "metadata": {},
            "cell_type": "code",
            "source": "%%sql \nSELECT CASE_NUMBER\nFROM CHICAGO_CRIME_DATA \nWHERE DESCRIPTION LIKE '%MINOR%';",
            "execution_count": 29,
            "outputs": [
                {
                    "output_type": "stream",
                    "text": " * ibm_db_sa://vbq04302:***@0c77d6f2-5da9-48a9-81f8-86b520b87518.bs2io90l08kqb1od8lcg.databases.appdomain.cloud:31198/bludb\nDone.\n",
                    "name": "stdout"
                },
                {
                    "output_type": "execute_result",
                    "execution_count": 29,
                    "data": {
                        "text/plain": "[('HL266884',), ('HK238408',)]",
                        "text/html": "<table>\n    <tr>\n        <th>case_number</th>\n    </tr>\n    <tr>\n        <td>HL266884</td>\n    </tr>\n    <tr>\n        <td>HK238408</td>\n    </tr>\n</table>"
                    },
                    "metadata": {}
                }
            ]
        },
        {
            "metadata": {},
            "cell_type": "markdown",
            "source": "# Problem 4: List all kidnapping crimes involving a child?(children are not considered minors for the purposes of crime analysis)"
        },
        {
            "metadata": {},
            "cell_type": "code",
            "source": "%%sql \nSELECT CASE_NUMBER, PRIMARY_TYPE, DESCRIPTION\nFROM CHICAGO_CRIME_DATA\nWHERE PRIMARY_TYPE = 'KIDNAPPING';",
            "execution_count": 32,
            "outputs": [
                {
                    "output_type": "stream",
                    "text": " * ibm_db_sa://vbq04302:***@0c77d6f2-5da9-48a9-81f8-86b520b87518.bs2io90l08kqb1od8lcg.databases.appdomain.cloud:31198/bludb\nDone.\n",
                    "name": "stdout"
                },
                {
                    "output_type": "execute_result",
                    "execution_count": 32,
                    "data": {
                        "text/plain": "[('HN144152', 'KIDNAPPING', 'CHILD ABDUCTION/STRANGER')]",
                        "text/html": "<table>\n    <tr>\n        <th>case_number</th>\n        <th>primary_type</th>\n        <th>description</th>\n    </tr>\n    <tr>\n        <td>HN144152</td>\n        <td>KIDNAPPING</td>\n        <td>CHILD ABDUCTION/STRANGER</td>\n    </tr>\n</table>"
                    },
                    "metadata": {}
                }
            ]
        },
        {
            "metadata": {},
            "cell_type": "markdown",
            "source": "# Problem 5: What kind of crimes were recorded at schools?\n\n"
        },
        {
            "metadata": {},
            "cell_type": "code",
            "source": "%%sql\nSELECT DISTINCT(PRIMARY_TYPE)\nFROM CHICAGO_CRIME_DATA\nWHERE LOCATION_DESCRIPTION LIKE '%SCHOOL%';",
            "execution_count": 33,
            "outputs": [
                {
                    "output_type": "stream",
                    "text": " * ibm_db_sa://vbq04302:***@0c77d6f2-5da9-48a9-81f8-86b520b87518.bs2io90l08kqb1od8lcg.databases.appdomain.cloud:31198/bludb\nDone.\n",
                    "name": "stdout"
                },
                {
                    "output_type": "execute_result",
                    "execution_count": 33,
                    "data": {
                        "text/plain": "[('ASSAULT',),\n ('BATTERY',),\n ('CRIMINAL DAMAGE',),\n ('CRIMINAL TRESPA',),\n ('NARCOTICS',),\n ('PUBLIC PEACE VI',)]",
                        "text/html": "<table>\n    <tr>\n        <th>primary_type</th>\n    </tr>\n    <tr>\n        <td>ASSAULT</td>\n    </tr>\n    <tr>\n        <td>BATTERY</td>\n    </tr>\n    <tr>\n        <td>CRIMINAL DAMAGE</td>\n    </tr>\n    <tr>\n        <td>CRIMINAL TRESPA</td>\n    </tr>\n    <tr>\n        <td>NARCOTICS</td>\n    </tr>\n    <tr>\n        <td>PUBLIC PEACE VI</td>\n    </tr>\n</table>"
                    },
                    "metadata": {}
                }
            ]
        },
        {
            "metadata": {},
            "cell_type": "markdown",
            "source": "# Problem 6: List the average safety score for all types of schools.\n"
        },
        {
            "metadata": {},
            "cell_type": "code",
            "source": "%%sql\nSELECT \"Elementary, Middle, or High School\",AVG(SAFETY_SCORE) AS AVERAGE_SAFETY_SCORE\nFROM CHICAGO_PUBLIC_SCHOOLS\nGROUP BY \"Elementary, Middle, or High School\";",
            "execution_count": 34,
            "outputs": [
                {
                    "output_type": "stream",
                    "text": " * ibm_db_sa://vbq04302:***@0c77d6f2-5da9-48a9-81f8-86b520b87518.bs2io90l08kqb1od8lcg.databases.appdomain.cloud:31198/bludb\nDone.\n",
                    "name": "stdout"
                },
                {
                    "output_type": "execute_result",
                    "execution_count": 34,
                    "data": {
                        "text/plain": "[('ES', 49), ('HS', 49), ('MS', 48)]",
                        "text/html": "<table>\n    <tr>\n        <th>Elementary, Middle, or High School</th>\n        <th>average_safety_score</th>\n    </tr>\n    <tr>\n        <td>ES</td>\n        <td>49</td>\n    </tr>\n    <tr>\n        <td>HS</td>\n        <td>49</td>\n    </tr>\n    <tr>\n        <td>MS</td>\n        <td>48</td>\n    </tr>\n</table>"
                    },
                    "metadata": {}
                }
            ]
        },
        {
            "metadata": {},
            "cell_type": "markdown",
            "source": "# Problem 7: List 5 community areas with highest % of households below poverty line.\n\n"
        },
        {
            "metadata": {},
            "cell_type": "code",
            "source": "%%sql\nSELECT COMMUNITY_AREA_NAME, PERCENT_HOUSEHOLDS_BELOW_POVERTY\nFROM CENSUS_DATA\nORDER BY PERCENT_HOUSEHOLDS_BELOW_POVERTY DESC\nLIMIT 5 ;",
            "execution_count": 35,
            "outputs": [
                {
                    "output_type": "stream",
                    "text": " * ibm_db_sa://vbq04302:***@0c77d6f2-5da9-48a9-81f8-86b520b87518.bs2io90l08kqb1od8lcg.databases.appdomain.cloud:31198/bludb\nDone.\n",
                    "name": "stdout"
                },
                {
                    "output_type": "execute_result",
                    "execution_count": 35,
                    "data": {
                        "text/plain": "[('Riverdale', Decimal('56.5')),\n ('Fuller Park', Decimal('51.2')),\n ('Englewood', Decimal('46.6')),\n ('North Lawndale', Decimal('43.1')),\n ('East Garfield Park', Decimal('42.4'))]",
                        "text/html": "<table>\n    <tr>\n        <th>community_area_name</th>\n        <th>percent_households_below_poverty</th>\n    </tr>\n    <tr>\n        <td>Riverdale</td>\n        <td>56.5</td>\n    </tr>\n    <tr>\n        <td>Fuller Park</td>\n        <td>51.2</td>\n    </tr>\n    <tr>\n        <td>Englewood</td>\n        <td>46.6</td>\n    </tr>\n    <tr>\n        <td>North Lawndale</td>\n        <td>43.1</td>\n    </tr>\n    <tr>\n        <td>East Garfield Park</td>\n        <td>42.4</td>\n    </tr>\n</table>"
                    },
                    "metadata": {}
                }
            ]
        },
        {
            "metadata": {},
            "cell_type": "markdown",
            "source": "# Problem 8: Which community area(number) is most crime prone?\n\n"
        },
        {
            "metadata": {},
            "cell_type": "code",
            "source": "%%sql\nSELECT CCD.COMMUNITY_AREA_NUMBER ,COUNT(CCD.COMMUNITY_AREA_NUMBER) AS FREQUENCY\nFROM CHICAGO_CRIME_DATA AS CCD \nGROUP BY CCD.COMMUNITY_AREA_NUMBER\nORDER BY COUNT(CCD.COMMUNITY_AREA_NUMBER) DESC\nLIMIT 1\n",
            "execution_count": 36,
            "outputs": [
                {
                    "output_type": "stream",
                    "text": " * ibm_db_sa://vbq04302:***@0c77d6f2-5da9-48a9-81f8-86b520b87518.bs2io90l08kqb1od8lcg.databases.appdomain.cloud:31198/bludb\nDone.\n",
                    "name": "stdout"
                },
                {
                    "output_type": "execute_result",
                    "execution_count": 36,
                    "data": {
                        "text/plain": "[(25, 43)]",
                        "text/html": "<table>\n    <tr>\n        <th>community_area_number</th>\n        <th>frequency</th>\n    </tr>\n    <tr>\n        <td>25</td>\n        <td>43</td>\n    </tr>\n</table>"
                    },
                    "metadata": {}
                }
            ]
        },
        {
            "metadata": {},
            "cell_type": "markdown",
            "source": "# Problem 9: Use a sub-query to find the name of the community area with highest hardship index.\n\n"
        },
        {
            "metadata": {},
            "cell_type": "code",
            "source": "%%sql\nSELECT COMMUNITY_AREA_NAME\nFROM  CENSUS_DATA\nWHERE HARDSHIP_INDEX = (SELECT MAX(HARDSHIP_INDEX) FROM CENSUS_DATA);",
            "execution_count": 37,
            "outputs": [
                {
                    "output_type": "stream",
                    "text": " * ibm_db_sa://vbq04302:***@0c77d6f2-5da9-48a9-81f8-86b520b87518.bs2io90l08kqb1od8lcg.databases.appdomain.cloud:31198/bludb\nDone.\n",
                    "name": "stdout"
                },
                {
                    "output_type": "execute_result",
                    "execution_count": 37,
                    "data": {
                        "text/plain": "[('Riverdale',)]",
                        "text/html": "<table>\n    <tr>\n        <th>community_area_name</th>\n    </tr>\n    <tr>\n        <td>Riverdale</td>\n    </tr>\n</table>"
                    },
                    "metadata": {}
                }
            ]
        },
        {
            "metadata": {},
            "cell_type": "markdown",
            "source": "# Problem 10: Use a sub-query to determine the Community Area Name with most number of crimes?"
        },
        {
            "metadata": {},
            "cell_type": "code",
            "source": "%%sql\nSELECT community_area_name\nFROM CENSUS_DATA \nWHERE COMMUNITY_AREA_NUMBER = (    \n    SELECT CCD.COMMUNITY_AREA_NUMBER \n    FROM CHICAGO_CRIME_DATA AS CCD \n    GROUP BY CCD.COMMUNITY_AREA_NUMBER\n    ORDER BY COUNT(CCD.COMMUNITY_AREA_NUMBER) DESC\n    LIMIT 1)\n",
            "execution_count": 38,
            "outputs": [
                {
                    "output_type": "stream",
                    "text": " * ibm_db_sa://vbq04302:***@0c77d6f2-5da9-48a9-81f8-86b520b87518.bs2io90l08kqb1od8lcg.databases.appdomain.cloud:31198/bludb\nDone.\n",
                    "name": "stdout"
                },
                {
                    "output_type": "execute_result",
                    "execution_count": 38,
                    "data": {
                        "text/plain": "[('Austin',)]",
                        "text/html": "<table>\n    <tr>\n        <th>community_area_name</th>\n    </tr>\n    <tr>\n        <td>Austin</td>\n    </tr>\n</table>"
                    },
                    "metadata": {}
                }
            ]
        },
        {
            "metadata": {},
            "cell_type": "code",
            "source": "",
            "execution_count": null,
            "outputs": []
        }
    ],
    "metadata": {
        "kernelspec": {
            "name": "python3",
            "display_name": "Python 3.8",
            "language": "python"
        },
        "language_info": {
            "name": "python",
            "version": "3.8.12",
            "mimetype": "text/x-python",
            "codemirror_mode": {
                "name": "ipython",
                "version": 3
            },
            "pygments_lexer": "ipython3",
            "nbconvert_exporter": "python",
            "file_extension": ".py"
        }
    },
    "nbformat": 4,
    "nbformat_minor": 1
}